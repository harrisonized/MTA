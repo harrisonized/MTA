{
 "cells": [
  {
   "cell_type": "code",
   "execution_count": 2,
   "metadata": {},
   "outputs": [],
   "source": [
    "from os.path import expanduser\n",
    "import pandas as pd\n",
    "import gmaps\n",
    "\n",
    "# Pandas options\n",
    "pd.set_option(\"max_columns\", None)\n",
    "\n",
    "with open(expanduser('~/.api/gmaps_apikey.txt')) as f: # Grab API Key\n",
    "    api_key = f.readline()\n",
    "\n",
    "gmaps.configure(api_key=api_key) # Fill in API Key"
   ]
  },
  {
   "cell_type": "markdown",
   "metadata": {},
   "source": [
    "# Get Data"
   ]
  },
  {
   "cell_type": "code",
   "execution_count": 65,
   "metadata": {
    "scrolled": true
   },
   "outputs": [],
   "source": [
    "station_counts_df = pd.read_csv(f'{data_dir}/station-counts.csv', index_col='datetime')\n",
    "station_df = pd.read_csv(f'{data_dir}/station-coordinates.csv')\n",
    "tech_hubs_df = pd.read_csv(\"data/extra/tech-hubs.csv\")"
   ]
  },
  {
   "cell_type": "markdown",
   "metadata": {},
   "source": [
    "# Plot Counts"
   ]
  },
  {
   "cell_type": "code",
   "execution_count": 18,
   "metadata": {
    "scrolled": true
   },
   "outputs": [
    {
     "data": {
      "application/vnd.jupyter.widget-view+json": {
       "model_id": "3a7b106680884715b60677ac2c3832d5",
       "version_major": 2,
       "version_minor": 0
      },
      "text/plain": [
       "Figure(layout=FigureLayout(height='600px', margin='0 auto 0 auto', padding='1px', width='800px'))"
      ]
     },
     "metadata": {},
     "output_type": "display_data"
    }
   ],
   "source": [
    "# Plot weights at the timestamp '2018-03-24 00:00:00'\n",
    "weights_df = station_counts_df[station_counts_df.index == '2018-03-24 00:00:00'].T\n",
    "weights_df.columns=['num_people']\n",
    "weights_df = weights_df.join(station_df.set_index('station')[['lat', 'long']], how='left')\n",
    "weights_df = weights_df.sort_values('num_people', ascending=False)\n",
    "\n",
    "\n",
    "locations = weights_df[['lat', 'long']][0:20]\n",
    "weights = weights_df['num_people'][0:20]\n",
    "\n",
    "\n",
    "# plot\n",
    "figure_layout = {'width': '800px', 'height': '600px','padding': '1px', 'margin': '0 auto 0 auto'}  # Configuring the dimensions\n",
    "fig = gmaps.figure(layout=figure_layout)\n",
    "\n",
    "fig.add_layer(gmaps.heatmap_layer(locations, weights=weights))\n",
    "\n",
    "gmaps.heatmap_layer.max_intensity = 30\n",
    "gmaps.heatmap_layer.min_intensity = 5\n",
    "\n",
    "fig"
   ]
  },
  {
   "cell_type": "markdown",
   "metadata": {},
   "source": [
    "# Plot Tech Hubs"
   ]
  },
  {
   "cell_type": "code",
   "execution_count": 22,
   "metadata": {},
   "outputs": [
    {
     "data": {
      "application/vnd.jupyter.widget-view+json": {
       "model_id": "684e97a54b694b48894a068a19d5c6e7",
       "version_major": 2,
       "version_minor": 0
      },
      "text/plain": [
       "Figure(layout=FigureLayout(height='600px', margin='0 auto 0 auto', padding='1px', width='800px'))"
      ]
     },
     "metadata": {},
     "output_type": "display_data"
    }
   ],
   "source": [
    "# Plot tech_hubs\n",
    "figure_layout = {'width': '800px', 'height': '600px','padding': '1px', 'margin': '0 auto 0 auto'} # Configure the dimensions\n",
    "\n",
    "locations = tech_hubs_df[['latitude', 'longitude']].iloc[0:5] # Get the locations from the data set\n",
    "weights = [40]*5 # Get the weights from the data (they're about equal)\n",
    "\n",
    "#Set up the map\n",
    "fig = gmaps.figure(layout=figure_layout)\n",
    "fig.add_layer(gmaps.heatmap_layer(locations, weights=weights))\n",
    "gmaps.heatmap_layer.max_intensity = 30\n",
    "gmaps.heatmap_layer.min_intensity = 5\n",
    "fig # Show figure"
   ]
  }
 ],
 "metadata": {
  "kernelspec": {
   "display_name": "Python 3",
   "language": "python",
   "name": "python3"
  },
  "language_info": {
   "codemirror_mode": {
    "name": "ipython",
    "version": 3
   },
   "file_extension": ".py",
   "mimetype": "text/x-python",
   "name": "python",
   "nbconvert_exporter": "python",
   "pygments_lexer": "ipython3",
   "version": "3.7.6"
  }
 },
 "nbformat": 4,
 "nbformat_minor": 2
}
