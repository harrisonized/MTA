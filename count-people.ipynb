{
 "cells": [
  {
   "cell_type": "code",
   "execution_count": 1,
   "metadata": {},
   "outputs": [],
   "source": [
    "from glob import glob\n",
    "import re\n",
    "import pandas as pd\n",
    "from tqdm.notebook import tqdm\n",
    "from functions.data import preprocess"
   ]
  },
  {
   "cell_type": "code",
   "execution_count": 2,
   "metadata": {},
   "outputs": [],
   "source": [
    "data_dir = \"data\"\n",
    "save = True"
   ]
  },
  {
   "cell_type": "markdown",
   "metadata": {},
   "source": [
    "# Count People"
   ]
  },
  {
   "cell_type": "code",
   "execution_count": 3,
   "metadata": {},
   "outputs": [
    {
     "data": {
      "application/vnd.jupyter.widget-view+json": {
       "model_id": "73109ab074694e17bc82ad8eac82d6ed",
       "version_major": 2,
       "version_minor": 0
      },
      "text/plain": [
       "HBox(children=(FloatProgress(value=0.0, max=53.0), HTML(value='')))"
      ]
     },
     "metadata": {},
     "output_type": "display_data"
    },
    {
     "name": "stdout",
     "output_type": "stream",
     "text": [
      "\n"
     ]
    }
   ],
   "source": [
    "files = sorted(glob(\"data/downloads/*\"))\n",
    "\n",
    "# takes 1.5 min\n",
    "# concat downloaded data\n",
    "df_list = []\n",
    "for file in tqdm(files):\n",
    "    date = re.match(\"data/downloads/turnstile_(?P<date>\\d*).csv\", file)[\"date\"]\n",
    "    df = pd.read_csv(file)\n",
    "    \n",
    "    # adjust for daylight savings\n",
    "    if date >= '181117' and date <= '190309':\n",
    "        is_est = True\n",
    "    df = preprocess(df, is_est)\n",
    "\n",
    "    # reshape into timeseries\n",
    "    timeseries_df = (\n",
    "        df.groupby([\"datetime\", \"station\"])[[\"entries\", \"exits\"]].first().unstack()\n",
    "    ) \n",
    "\n",
    "    df_list.append(timeseries_df)\n",
    "    \n",
    "timeseries_df = pd.concat(df_list)"
   ]
  },
  {
   "cell_type": "code",
   "execution_count": 11,
   "metadata": {},
   "outputs": [],
   "source": [
    "# count people who pass through the station within 4-hour time blocks\n",
    "timeseries_diff_df = timeseries_df.shift(-1)-timeseries_df\n",
    "count_df = timeseries_diff_df['entries']+timeseries_diff_df['exits']\n",
    "count_df = count_df.fillna(0).reset_index()"
   ]
  },
  {
   "cell_type": "code",
   "execution_count": 14,
   "metadata": {},
   "outputs": [],
   "source": [
    "if save:\n",
    "    count_df.to_csv(f'{data_dir}/station-counts.csv', index=None)"
   ]
  },
  {
   "cell_type": "markdown",
   "metadata": {},
   "source": [
    "# Check"
   ]
  },
  {
   "cell_type": "code",
   "execution_count": 15,
   "metadata": {
    "scrolled": true
   },
   "outputs": [
    {
     "data": {
      "text/html": [
       "<div>\n",
       "<style scoped>\n",
       "    .dataframe tbody tr th:only-of-type {\n",
       "        vertical-align: middle;\n",
       "    }\n",
       "\n",
       "    .dataframe tbody tr th {\n",
       "        vertical-align: top;\n",
       "    }\n",
       "\n",
       "    .dataframe thead th {\n",
       "        text-align: right;\n",
       "    }\n",
       "</style>\n",
       "<table border=\"1\" class=\"dataframe\">\n",
       "  <thead>\n",
       "    <tr style=\"text-align: right;\">\n",
       "      <th></th>\n",
       "      <th>datetime</th>\n",
       "      <th>1 AV</th>\n",
       "      <th>103 ST</th>\n",
       "      <th>103 ST-CORONA</th>\n",
       "      <th>104 ST</th>\n",
       "      <th>110 ST</th>\n",
       "      <th>111 ST</th>\n",
       "      <th>116 ST</th>\n",
       "      <th>116 ST-COLUMBIA</th>\n",
       "      <th>121 ST</th>\n",
       "      <th>...</th>\n",
       "      <th>WHITEHALL S-FRY</th>\n",
       "      <th>WHITLOCK AV</th>\n",
       "      <th>WILSON AV</th>\n",
       "      <th>WINTHROP ST</th>\n",
       "      <th>WOODHAVEN BLVD</th>\n",
       "      <th>WOODLAWN</th>\n",
       "      <th>WORLD TRADE CTR</th>\n",
       "      <th>WTC-CORTLANDT</th>\n",
       "      <th>YORK ST</th>\n",
       "      <th>ZEREGA AV</th>\n",
       "    </tr>\n",
       "  </thead>\n",
       "  <tbody>\n",
       "    <tr>\n",
       "      <th>0</th>\n",
       "      <td>2018-03-24 00:00:00</td>\n",
       "      <td>407.0</td>\n",
       "      <td>0.0</td>\n",
       "      <td>291.0</td>\n",
       "      <td>23.0</td>\n",
       "      <td>145.0</td>\n",
       "      <td>36.0</td>\n",
       "      <td>0.0</td>\n",
       "      <td>0.0</td>\n",
       "      <td>24.0</td>\n",
       "      <td>...</td>\n",
       "      <td>0.0</td>\n",
       "      <td>60.0</td>\n",
       "      <td>189.0</td>\n",
       "      <td>0.0</td>\n",
       "      <td>45.0</td>\n",
       "      <td>96.0</td>\n",
       "      <td>26.0</td>\n",
       "      <td>0.0</td>\n",
       "      <td>0.0</td>\n",
       "      <td>0.0</td>\n",
       "    </tr>\n",
       "    <tr>\n",
       "      <th>1</th>\n",
       "      <td>2018-03-24 04:00:00</td>\n",
       "      <td>397.0</td>\n",
       "      <td>0.0</td>\n",
       "      <td>435.0</td>\n",
       "      <td>0.0</td>\n",
       "      <td>134.0</td>\n",
       "      <td>0.0</td>\n",
       "      <td>0.0</td>\n",
       "      <td>0.0</td>\n",
       "      <td>1.0</td>\n",
       "      <td>...</td>\n",
       "      <td>0.0</td>\n",
       "      <td>43.0</td>\n",
       "      <td>147.0</td>\n",
       "      <td>0.0</td>\n",
       "      <td>4.0</td>\n",
       "      <td>234.0</td>\n",
       "      <td>57.0</td>\n",
       "      <td>0.0</td>\n",
       "      <td>0.0</td>\n",
       "      <td>0.0</td>\n",
       "    </tr>\n",
       "    <tr>\n",
       "      <th>2</th>\n",
       "      <td>2018-03-24 08:00:00</td>\n",
       "      <td>1601.0</td>\n",
       "      <td>0.0</td>\n",
       "      <td>708.0</td>\n",
       "      <td>0.0</td>\n",
       "      <td>334.0</td>\n",
       "      <td>4.0</td>\n",
       "      <td>0.0</td>\n",
       "      <td>0.0</td>\n",
       "      <td>0.0</td>\n",
       "      <td>...</td>\n",
       "      <td>0.0</td>\n",
       "      <td>106.0</td>\n",
       "      <td>439.0</td>\n",
       "      <td>0.0</td>\n",
       "      <td>0.0</td>\n",
       "      <td>368.0</td>\n",
       "      <td>310.0</td>\n",
       "      <td>0.0</td>\n",
       "      <td>0.0</td>\n",
       "      <td>0.0</td>\n",
       "    </tr>\n",
       "    <tr>\n",
       "      <th>3</th>\n",
       "      <td>2018-03-24 12:00:00</td>\n",
       "      <td>1885.0</td>\n",
       "      <td>0.0</td>\n",
       "      <td>821.0</td>\n",
       "      <td>0.0</td>\n",
       "      <td>549.0</td>\n",
       "      <td>0.0</td>\n",
       "      <td>0.0</td>\n",
       "      <td>0.0</td>\n",
       "      <td>0.0</td>\n",
       "      <td>...</td>\n",
       "      <td>0.0</td>\n",
       "      <td>145.0</td>\n",
       "      <td>588.0</td>\n",
       "      <td>0.0</td>\n",
       "      <td>0.0</td>\n",
       "      <td>413.0</td>\n",
       "      <td>401.0</td>\n",
       "      <td>0.0</td>\n",
       "      <td>0.0</td>\n",
       "      <td>0.0</td>\n",
       "    </tr>\n",
       "    <tr>\n",
       "      <th>4</th>\n",
       "      <td>2018-03-24 16:00:00</td>\n",
       "      <td>2006.0</td>\n",
       "      <td>0.0</td>\n",
       "      <td>982.0</td>\n",
       "      <td>0.0</td>\n",
       "      <td>575.0</td>\n",
       "      <td>0.0</td>\n",
       "      <td>0.0</td>\n",
       "      <td>0.0</td>\n",
       "      <td>1.0</td>\n",
       "      <td>...</td>\n",
       "      <td>0.0</td>\n",
       "      <td>174.0</td>\n",
       "      <td>698.0</td>\n",
       "      <td>0.0</td>\n",
       "      <td>1.0</td>\n",
       "      <td>382.0</td>\n",
       "      <td>393.0</td>\n",
       "      <td>0.0</td>\n",
       "      <td>0.0</td>\n",
       "      <td>0.0</td>\n",
       "    </tr>\n",
       "  </tbody>\n",
       "</table>\n",
       "<p>5 rows × 367 columns</p>\n",
       "</div>"
      ],
      "text/plain": [
       "              datetime    1 AV  103 ST  103 ST-CORONA  104 ST  110 ST  111 ST  \\\n",
       "0  2018-03-24 00:00:00   407.0     0.0          291.0    23.0   145.0    36.0   \n",
       "1  2018-03-24 04:00:00   397.0     0.0          435.0     0.0   134.0     0.0   \n",
       "2  2018-03-24 08:00:00  1601.0     0.0          708.0     0.0   334.0     4.0   \n",
       "3  2018-03-24 12:00:00  1885.0     0.0          821.0     0.0   549.0     0.0   \n",
       "4  2018-03-24 16:00:00  2006.0     0.0          982.0     0.0   575.0     0.0   \n",
       "\n",
       "   116 ST  116 ST-COLUMBIA  121 ST  ...  WHITEHALL S-FRY  WHITLOCK AV  \\\n",
       "0     0.0              0.0    24.0  ...              0.0         60.0   \n",
       "1     0.0              0.0     1.0  ...              0.0         43.0   \n",
       "2     0.0              0.0     0.0  ...              0.0        106.0   \n",
       "3     0.0              0.0     0.0  ...              0.0        145.0   \n",
       "4     0.0              0.0     1.0  ...              0.0        174.0   \n",
       "\n",
       "   WILSON AV  WINTHROP ST  WOODHAVEN BLVD  WOODLAWN  WORLD TRADE CTR  \\\n",
       "0      189.0          0.0            45.0      96.0             26.0   \n",
       "1      147.0          0.0             4.0     234.0             57.0   \n",
       "2      439.0          0.0             0.0     368.0            310.0   \n",
       "3      588.0          0.0             0.0     413.0            401.0   \n",
       "4      698.0          0.0             1.0     382.0            393.0   \n",
       "\n",
       "   WTC-CORTLANDT  YORK ST  ZEREGA AV  \n",
       "0            0.0      0.0        0.0  \n",
       "1            0.0      0.0        0.0  \n",
       "2            0.0      0.0        0.0  \n",
       "3            0.0      0.0        0.0  \n",
       "4            0.0      0.0        0.0  \n",
       "\n",
       "[5 rows x 367 columns]"
      ]
     },
     "execution_count": 15,
     "metadata": {},
     "output_type": "execute_result"
    }
   ],
   "source": [
    "df = pd.read_csv(f'{data_dir}/station-counts.csv')\n",
    "df.head()"
   ]
  },
  {
   "cell_type": "code",
   "execution_count": null,
   "metadata": {},
   "outputs": [],
   "source": []
  }
 ],
 "metadata": {
  "kernelspec": {
   "display_name": "Python 3",
   "language": "python",
   "name": "python3"
  },
  "language_info": {
   "codemirror_mode": {
    "name": "ipython",
    "version": 3
   },
   "file_extension": ".py",
   "mimetype": "text/x-python",
   "name": "python",
   "nbconvert_exporter": "python",
   "pygments_lexer": "ipython3",
   "version": "3.7.6"
  }
 },
 "nbformat": 4,
 "nbformat_minor": 2
}
